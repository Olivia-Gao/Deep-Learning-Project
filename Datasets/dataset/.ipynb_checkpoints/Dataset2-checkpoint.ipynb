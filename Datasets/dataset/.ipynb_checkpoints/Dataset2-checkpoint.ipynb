{
 "cells": [
  {
   "cell_type": "code",
   "execution_count": 3,
   "id": "34889296-866a-4b2c-9a97-dd270c88c716",
   "metadata": {},
   "outputs": [
    {
     "name": "stdout",
     "output_type": "stream",
     "text": [
      "Successfully！\n"
     ]
    }
   ],
   "source": [
    "import os\n",
    "import shutil\n",
    "import random\n",
    "\n",
    "# 设置源数据集路径和目标文件夹路径\n",
    "source_dir = r'C:\\Users\\xiaog\\Desktop\\Project\\Datasets\\dataset\\PVMD dataset'  # PVMD dataset路径，包含cracks、hotspots、shadings文件夹\n",
    "train_dir = r'C:\\Users\\xiaog\\Desktop\\Project\\Datasets\\dataset\\train'  # 训练集目标文件夹路径\n",
    "test_dir = r'C:\\Users\\xiaog\\Desktop\\Project\\Datasets\\dataset\\test'   # 测试集目标文件夹路径\n",
    "\n",
    "# 创建目标文件夹结构\n",
    "categories = ['cracks', 'hotspots', 'shadings']\n",
    "\n",
    "# 创建训练集和测试集的文件夹结构\n",
    "for category in categories:\n",
    "    os.makedirs(os.path.join(train_dir, category), exist_ok=True)\n",
    "    os.makedirs(os.path.join(test_dir, category), exist_ok=True)\n",
    "\n",
    "# 遍历每个类别，将数据分配到训练集和测试集中\n",
    "for category in categories:\n",
    "    category_dir = os.path.join(source_dir, category)\n",
    "    images = os.listdir(category_dir)\n",
    "\n",
    "    # 打乱数据并按比例分配\n",
    "    random.shuffle(images)\n",
    "    split_index = int(0.8 * len(images))  # 80%作为训练集\n",
    "    train_images = images[:split_index]\n",
    "    test_images = images[split_index:]\n",
    "\n",
    "    # 将图像复制到训练集和测试集文件夹\n",
    "    for img in train_images:\n",
    "        src_path = os.path.join(category_dir, img)\n",
    "        dst_path = os.path.join(train_dir, category, img)\n",
    "        shutil.copy(src_path, dst_path)\n",
    "\n",
    "    for img in test_images:\n",
    "        src_path = os.path.join(category_dir, img)\n",
    "        dst_path = os.path.join(test_dir, category, img)\n",
    "        shutil.copy(src_path, dst_path)\n",
    "\n",
    "print(\"Successfully！\")\n"
   ]
  },
  {
   "cell_type": "code",
   "execution_count": null,
   "id": "cc90c950-f2e3-4b6b-a1a6-f18f7e0ab545",
   "metadata": {},
   "outputs": [],
   "source": []
  },
  {
   "cell_type": "code",
   "execution_count": null,
   "id": "8b2622c5-0bff-4528-b293-7a8291462d34",
   "metadata": {},
   "outputs": [],
   "source": []
  },
  {
   "cell_type": "code",
   "execution_count": null,
   "id": "08d16533-33d4-492c-86da-7e9065c780f4",
   "metadata": {},
   "outputs": [],
   "source": []
  },
  {
   "cell_type": "code",
   "execution_count": null,
   "id": "93cf4534-3e43-4449-95a3-8aaf555f9616",
   "metadata": {},
   "outputs": [],
   "source": []
  },
  {
   "cell_type": "code",
   "execution_count": null,
   "id": "072468c7-8458-4964-8bfe-e2b2e48263cc",
   "metadata": {},
   "outputs": [],
   "source": []
  },
  {
   "cell_type": "code",
   "execution_count": null,
   "id": "6b03e224-63e8-4391-9e32-a1dcb10a6637",
   "metadata": {},
   "outputs": [],
   "source": []
  },
  {
   "cell_type": "code",
   "execution_count": null,
   "id": "74962c2c-ad06-460b-b56d-a738ed482725",
   "metadata": {},
   "outputs": [],
   "source": []
  },
  {
   "cell_type": "code",
   "execution_count": null,
   "id": "ca4f6f5d-0a0a-4bbc-95b8-a7520260bcd5",
   "metadata": {},
   "outputs": [],
   "source": []
  }
 ],
 "metadata": {
  "kernelspec": {
   "display_name": "python3999",
   "language": "python",
   "name": "python3999"
  },
  "language_info": {
   "codemirror_mode": {
    "name": "ipython",
    "version": 3
   },
   "file_extension": ".py",
   "mimetype": "text/x-python",
   "name": "python",
   "nbconvert_exporter": "python",
   "pygments_lexer": "ipython3",
   "version": "3.9.0"
  }
 },
 "nbformat": 4,
 "nbformat_minor": 5
}
